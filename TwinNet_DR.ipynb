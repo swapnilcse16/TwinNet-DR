{
  "nbformat": 4,
  "nbformat_minor": 0,
  "metadata": {
    "colab": {
      "provenance": [],
      "authorship_tag": "ABX9TyPDRsSihmjyIEKHukHKAvXQ",
      "include_colab_link": true
    },
    "kernelspec": {
      "name": "python3",
      "display_name": "Python 3"
    },
    "language_info": {
      "name": "python"
    }
  },
  "cells": [
    {
      "cell_type": "markdown",
      "metadata": {
        "id": "view-in-github",
        "colab_type": "text"
      },
      "source": [
        "<a href=\"https://colab.research.google.com/github/swapnilcse16/TwinNet-DR/blob/main/TwinNet_DR.ipynb\" target=\"_parent\"><img src=\"https://colab.research.google.com/assets/colab-badge.svg\" alt=\"Open In Colab\"/></a>"
      ]
    },
    {
      "cell_type": "code",
      "execution_count": 1,
      "metadata": {
        "colab": {
          "base_uri": "https://localhost:8080/"
        },
        "id": "nueHnMwYbM_F",
        "outputId": "ae1346a6-9a61-4cbe-f2ae-76abb1fc780d"
      },
      "outputs": [
        {
          "output_type": "stream",
          "name": "stdout",
          "text": [
            "Requirement already satisfied: torch in /usr/local/lib/python3.11/dist-packages (2.6.0+cu124)\n",
            "Requirement already satisfied: filelock in /usr/local/lib/python3.11/dist-packages (from torch) (3.18.0)\n",
            "Requirement already satisfied: typing-extensions>=4.10.0 in /usr/local/lib/python3.11/dist-packages (from torch) (4.12.2)\n",
            "Requirement already satisfied: networkx in /usr/local/lib/python3.11/dist-packages (from torch) (3.4.2)\n",
            "Requirement already satisfied: jinja2 in /usr/local/lib/python3.11/dist-packages (from torch) (3.1.6)\n",
            "Requirement already satisfied: fsspec in /usr/local/lib/python3.11/dist-packages (from torch) (2025.3.0)\n",
            "Collecting nvidia-cuda-nvrtc-cu12==12.4.127 (from torch)\n",
            "  Downloading nvidia_cuda_nvrtc_cu12-12.4.127-py3-none-manylinux2014_x86_64.whl.metadata (1.5 kB)\n",
            "Collecting nvidia-cuda-runtime-cu12==12.4.127 (from torch)\n",
            "  Downloading nvidia_cuda_runtime_cu12-12.4.127-py3-none-manylinux2014_x86_64.whl.metadata (1.5 kB)\n",
            "Collecting nvidia-cuda-cupti-cu12==12.4.127 (from torch)\n",
            "  Downloading nvidia_cuda_cupti_cu12-12.4.127-py3-none-manylinux2014_x86_64.whl.metadata (1.6 kB)\n",
            "Collecting nvidia-cudnn-cu12==9.1.0.70 (from torch)\n",
            "  Downloading nvidia_cudnn_cu12-9.1.0.70-py3-none-manylinux2014_x86_64.whl.metadata (1.6 kB)\n",
            "Collecting nvidia-cublas-cu12==12.4.5.8 (from torch)\n",
            "  Downloading nvidia_cublas_cu12-12.4.5.8-py3-none-manylinux2014_x86_64.whl.metadata (1.5 kB)\n",
            "Collecting nvidia-cufft-cu12==11.2.1.3 (from torch)\n",
            "  Downloading nvidia_cufft_cu12-11.2.1.3-py3-none-manylinux2014_x86_64.whl.metadata (1.5 kB)\n",
            "Collecting nvidia-curand-cu12==10.3.5.147 (from torch)\n",
            "  Downloading nvidia_curand_cu12-10.3.5.147-py3-none-manylinux2014_x86_64.whl.metadata (1.5 kB)\n",
            "Collecting nvidia-cusolver-cu12==11.6.1.9 (from torch)\n",
            "  Downloading nvidia_cusolver_cu12-11.6.1.9-py3-none-manylinux2014_x86_64.whl.metadata (1.6 kB)\n",
            "Collecting nvidia-cusparse-cu12==12.3.1.170 (from torch)\n",
            "  Downloading nvidia_cusparse_cu12-12.3.1.170-py3-none-manylinux2014_x86_64.whl.metadata (1.6 kB)\n",
            "Requirement already satisfied: nvidia-cusparselt-cu12==0.6.2 in /usr/local/lib/python3.11/dist-packages (from torch) (0.6.2)\n",
            "Requirement already satisfied: nvidia-nccl-cu12==2.21.5 in /usr/local/lib/python3.11/dist-packages (from torch) (2.21.5)\n",
            "Requirement already satisfied: nvidia-nvtx-cu12==12.4.127 in /usr/local/lib/python3.11/dist-packages (from torch) (12.4.127)\n",
            "Collecting nvidia-nvjitlink-cu12==12.4.127 (from torch)\n",
            "  Downloading nvidia_nvjitlink_cu12-12.4.127-py3-none-manylinux2014_x86_64.whl.metadata (1.5 kB)\n",
            "Requirement already satisfied: triton==3.2.0 in /usr/local/lib/python3.11/dist-packages (from torch) (3.2.0)\n",
            "Requirement already satisfied: sympy==1.13.1 in /usr/local/lib/python3.11/dist-packages (from torch) (1.13.1)\n",
            "Requirement already satisfied: mpmath<1.4,>=1.1.0 in /usr/local/lib/python3.11/dist-packages (from sympy==1.13.1->torch) (1.3.0)\n",
            "Requirement already satisfied: MarkupSafe>=2.0 in /usr/local/lib/python3.11/dist-packages (from jinja2->torch) (3.0.2)\n",
            "Downloading nvidia_cublas_cu12-12.4.5.8-py3-none-manylinux2014_x86_64.whl (363.4 MB)\n",
            "\u001b[2K   \u001b[90m━━━━━━━━━━━━━━━━━━━━━━━━━━━━━━━━━━━━━━━━\u001b[0m \u001b[32m363.4/363.4 MB\u001b[0m \u001b[31m2.2 MB/s\u001b[0m eta \u001b[36m0:00:00\u001b[0m\n",
            "\u001b[?25hDownloading nvidia_cuda_cupti_cu12-12.4.127-py3-none-manylinux2014_x86_64.whl (13.8 MB)\n",
            "\u001b[2K   \u001b[90m━━━━━━━━━━━━━━━━━━━━━━━━━━━━━━━━━━━━━━━━\u001b[0m \u001b[32m13.8/13.8 MB\u001b[0m \u001b[31m14.8 MB/s\u001b[0m eta \u001b[36m0:00:00\u001b[0m\n",
            "\u001b[?25hDownloading nvidia_cuda_nvrtc_cu12-12.4.127-py3-none-manylinux2014_x86_64.whl (24.6 MB)\n",
            "\u001b[2K   \u001b[90m━━━━━━━━━━━━━━━━━━━━━━━━━━━━━━━━━━━━━━━━\u001b[0m \u001b[32m24.6/24.6 MB\u001b[0m \u001b[31m15.9 MB/s\u001b[0m eta \u001b[36m0:00:00\u001b[0m\n",
            "\u001b[?25hDownloading nvidia_cuda_runtime_cu12-12.4.127-py3-none-manylinux2014_x86_64.whl (883 kB)\n",
            "\u001b[2K   \u001b[90m━━━━━━━━━━━━━━━━━━━━━━━━━━━━━━━━━━━━━━━━\u001b[0m \u001b[32m883.7/883.7 kB\u001b[0m \u001b[31m15.2 MB/s\u001b[0m eta \u001b[36m0:00:00\u001b[0m\n",
            "\u001b[?25hDownloading nvidia_cudnn_cu12-9.1.0.70-py3-none-manylinux2014_x86_64.whl (664.8 MB)\n",
            "\u001b[2K   \u001b[90m━━━━━━━━━━━━━━━━━━━━━━━━━━━━━━━━━━━━━━━━\u001b[0m \u001b[32m664.8/664.8 MB\u001b[0m \u001b[31m1.3 MB/s\u001b[0m eta \u001b[36m0:00:00\u001b[0m\n",
            "\u001b[?25hDownloading nvidia_cufft_cu12-11.2.1.3-py3-none-manylinux2014_x86_64.whl (211.5 MB)\n",
            "\u001b[2K   \u001b[90m━━━━━━━━━━━━━━━━━━━━━━━━━━━━━━━━━━━━━━━━\u001b[0m \u001b[32m211.5/211.5 MB\u001b[0m \u001b[31m6.3 MB/s\u001b[0m eta \u001b[36m0:00:00\u001b[0m\n",
            "\u001b[?25hDownloading nvidia_curand_cu12-10.3.5.147-py3-none-manylinux2014_x86_64.whl (56.3 MB)\n",
            "\u001b[2K   \u001b[90m━━━━━━━━━━━━━━━━━━━━━━━━━━━━━━━━━━━━━━━━\u001b[0m \u001b[32m56.3/56.3 MB\u001b[0m \u001b[31m13.0 MB/s\u001b[0m eta \u001b[36m0:00:00\u001b[0m\n",
            "\u001b[?25hDownloading nvidia_cusolver_cu12-11.6.1.9-py3-none-manylinux2014_x86_64.whl (127.9 MB)\n",
            "\u001b[2K   \u001b[90m━━━━━━━━━━━━━━━━━━━━━━━━━━━━━━━━━━━━━━━━\u001b[0m \u001b[32m127.9/127.9 MB\u001b[0m \u001b[31m8.2 MB/s\u001b[0m eta \u001b[36m0:00:00\u001b[0m\n",
            "\u001b[?25hDownloading nvidia_cusparse_cu12-12.3.1.170-py3-none-manylinux2014_x86_64.whl (207.5 MB)\n",
            "\u001b[2K   \u001b[90m━━━━━━━━━━━━━━━━━━━━━━━━━━━━━━━━━━━━━━━━\u001b[0m \u001b[32m207.5/207.5 MB\u001b[0m \u001b[31m7.1 MB/s\u001b[0m eta \u001b[36m0:00:00\u001b[0m\n",
            "\u001b[?25hDownloading nvidia_nvjitlink_cu12-12.4.127-py3-none-manylinux2014_x86_64.whl (21.1 MB)\n",
            "\u001b[2K   \u001b[90m━━━━━━━━━━━━━━━━━━━━━━━━━━━━━━━━━━━━━━━━\u001b[0m \u001b[32m21.1/21.1 MB\u001b[0m \u001b[31m74.0 MB/s\u001b[0m eta \u001b[36m0:00:00\u001b[0m\n",
            "\u001b[?25hInstalling collected packages: nvidia-nvjitlink-cu12, nvidia-curand-cu12, nvidia-cufft-cu12, nvidia-cuda-runtime-cu12, nvidia-cuda-nvrtc-cu12, nvidia-cuda-cupti-cu12, nvidia-cublas-cu12, nvidia-cusparse-cu12, nvidia-cudnn-cu12, nvidia-cusolver-cu12\n",
            "  Attempting uninstall: nvidia-nvjitlink-cu12\n",
            "    Found existing installation: nvidia-nvjitlink-cu12 12.5.82\n",
            "    Uninstalling nvidia-nvjitlink-cu12-12.5.82:\n",
            "      Successfully uninstalled nvidia-nvjitlink-cu12-12.5.82\n",
            "  Attempting uninstall: nvidia-curand-cu12\n",
            "    Found existing installation: nvidia-curand-cu12 10.3.6.82\n",
            "    Uninstalling nvidia-curand-cu12-10.3.6.82:\n",
            "      Successfully uninstalled nvidia-curand-cu12-10.3.6.82\n",
            "  Attempting uninstall: nvidia-cufft-cu12\n",
            "    Found existing installation: nvidia-cufft-cu12 11.2.3.61\n",
            "    Uninstalling nvidia-cufft-cu12-11.2.3.61:\n",
            "      Successfully uninstalled nvidia-cufft-cu12-11.2.3.61\n",
            "  Attempting uninstall: nvidia-cuda-runtime-cu12\n",
            "    Found existing installation: nvidia-cuda-runtime-cu12 12.5.82\n",
            "    Uninstalling nvidia-cuda-runtime-cu12-12.5.82:\n",
            "      Successfully uninstalled nvidia-cuda-runtime-cu12-12.5.82\n",
            "  Attempting uninstall: nvidia-cuda-nvrtc-cu12\n",
            "    Found existing installation: nvidia-cuda-nvrtc-cu12 12.5.82\n",
            "    Uninstalling nvidia-cuda-nvrtc-cu12-12.5.82:\n",
            "      Successfully uninstalled nvidia-cuda-nvrtc-cu12-12.5.82\n",
            "  Attempting uninstall: nvidia-cuda-cupti-cu12\n",
            "    Found existing installation: nvidia-cuda-cupti-cu12 12.5.82\n",
            "    Uninstalling nvidia-cuda-cupti-cu12-12.5.82:\n",
            "      Successfully uninstalled nvidia-cuda-cupti-cu12-12.5.82\n",
            "  Attempting uninstall: nvidia-cublas-cu12\n",
            "    Found existing installation: nvidia-cublas-cu12 12.5.3.2\n",
            "    Uninstalling nvidia-cublas-cu12-12.5.3.2:\n",
            "      Successfully uninstalled nvidia-cublas-cu12-12.5.3.2\n",
            "  Attempting uninstall: nvidia-cusparse-cu12\n",
            "    Found existing installation: nvidia-cusparse-cu12 12.5.1.3\n",
            "    Uninstalling nvidia-cusparse-cu12-12.5.1.3:\n",
            "      Successfully uninstalled nvidia-cusparse-cu12-12.5.1.3\n",
            "  Attempting uninstall: nvidia-cudnn-cu12\n",
            "    Found existing installation: nvidia-cudnn-cu12 9.3.0.75\n",
            "    Uninstalling nvidia-cudnn-cu12-9.3.0.75:\n",
            "      Successfully uninstalled nvidia-cudnn-cu12-9.3.0.75\n",
            "  Attempting uninstall: nvidia-cusolver-cu12\n",
            "    Found existing installation: nvidia-cusolver-cu12 11.6.3.83\n",
            "    Uninstalling nvidia-cusolver-cu12-11.6.3.83:\n",
            "      Successfully uninstalled nvidia-cusolver-cu12-11.6.3.83\n",
            "Successfully installed nvidia-cublas-cu12-12.4.5.8 nvidia-cuda-cupti-cu12-12.4.127 nvidia-cuda-nvrtc-cu12-12.4.127 nvidia-cuda-runtime-cu12-12.4.127 nvidia-cudnn-cu12-9.1.0.70 nvidia-cufft-cu12-11.2.1.3 nvidia-curand-cu12-10.3.5.147 nvidia-cusolver-cu12-11.6.1.9 nvidia-cusparse-cu12-12.3.1.170 nvidia-nvjitlink-cu12-12.4.127\n",
            "Collecting torch-geometric\n",
            "  Downloading torch_geometric-2.6.1-py3-none-any.whl.metadata (63 kB)\n",
            "\u001b[2K     \u001b[90m━━━━━━━━━━━━━━━━━━━━━━━━━━━━━━━━━━━━━━━━\u001b[0m \u001b[32m63.1/63.1 kB\u001b[0m \u001b[31m1.9 MB/s\u001b[0m eta \u001b[36m0:00:00\u001b[0m\n",
            "\u001b[?25hRequirement already satisfied: aiohttp in /usr/local/lib/python3.11/dist-packages (from torch-geometric) (3.11.14)\n",
            "Requirement already satisfied: fsspec in /usr/local/lib/python3.11/dist-packages (from torch-geometric) (2025.3.0)\n",
            "Requirement already satisfied: jinja2 in /usr/local/lib/python3.11/dist-packages (from torch-geometric) (3.1.6)\n",
            "Requirement already satisfied: numpy in /usr/local/lib/python3.11/dist-packages (from torch-geometric) (2.0.2)\n",
            "Requirement already satisfied: psutil>=5.8.0 in /usr/local/lib/python3.11/dist-packages (from torch-geometric) (5.9.5)\n",
            "Requirement already satisfied: pyparsing in /usr/local/lib/python3.11/dist-packages (from torch-geometric) (3.2.1)\n",
            "Requirement already satisfied: requests in /usr/local/lib/python3.11/dist-packages (from torch-geometric) (2.32.3)\n",
            "Requirement already satisfied: tqdm in /usr/local/lib/python3.11/dist-packages (from torch-geometric) (4.67.1)\n",
            "Requirement already satisfied: aiohappyeyeballs>=2.3.0 in /usr/local/lib/python3.11/dist-packages (from aiohttp->torch-geometric) (2.6.1)\n",
            "Requirement already satisfied: aiosignal>=1.1.2 in /usr/local/lib/python3.11/dist-packages (from aiohttp->torch-geometric) (1.3.2)\n",
            "Requirement already satisfied: attrs>=17.3.0 in /usr/local/lib/python3.11/dist-packages (from aiohttp->torch-geometric) (25.3.0)\n",
            "Requirement already satisfied: frozenlist>=1.1.1 in /usr/local/lib/python3.11/dist-packages (from aiohttp->torch-geometric) (1.5.0)\n",
            "Requirement already satisfied: multidict<7.0,>=4.5 in /usr/local/lib/python3.11/dist-packages (from aiohttp->torch-geometric) (6.2.0)\n",
            "Requirement already satisfied: propcache>=0.2.0 in /usr/local/lib/python3.11/dist-packages (from aiohttp->torch-geometric) (0.3.0)\n",
            "Requirement already satisfied: yarl<2.0,>=1.17.0 in /usr/local/lib/python3.11/dist-packages (from aiohttp->torch-geometric) (1.18.3)\n",
            "Requirement already satisfied: MarkupSafe>=2.0 in /usr/local/lib/python3.11/dist-packages (from jinja2->torch-geometric) (3.0.2)\n",
            "Requirement already satisfied: charset-normalizer<4,>=2 in /usr/local/lib/python3.11/dist-packages (from requests->torch-geometric) (3.4.1)\n",
            "Requirement already satisfied: idna<4,>=2.5 in /usr/local/lib/python3.11/dist-packages (from requests->torch-geometric) (3.10)\n",
            "Requirement already satisfied: urllib3<3,>=1.21.1 in /usr/local/lib/python3.11/dist-packages (from requests->torch-geometric) (2.3.0)\n",
            "Requirement already satisfied: certifi>=2017.4.17 in /usr/local/lib/python3.11/dist-packages (from requests->torch-geometric) (2025.1.31)\n",
            "Downloading torch_geometric-2.6.1-py3-none-any.whl (1.1 MB)\n",
            "\u001b[2K   \u001b[90m━━━━━━━━━━━━━━━━━━━━━━━━━━━━━━━━━━━━━━━━\u001b[0m \u001b[32m1.1/1.1 MB\u001b[0m \u001b[31m16.9 MB/s\u001b[0m eta \u001b[36m0:00:00\u001b[0m\n",
            "\u001b[?25hInstalling collected packages: torch-geometric\n",
            "Successfully installed torch-geometric-2.6.1\n"
          ]
        }
      ],
      "source": [
        "!pip install torch\n",
        "!pip install torch-geometric"
      ]
    },
    {
      "cell_type": "code",
      "source": [
        "threshold = 0.6\n",
        "learning_rate = 0.01\n",
        "hidden_channels = 128\n",
        "output_channels = 32\n",
        "train_ratio = 0.9\n",
        "negative_edge_ratio = 1\n",
        "epochs = 200"
      ],
      "metadata": {
        "id": "MrRJgt1HbuZd"
      },
      "execution_count": 2,
      "outputs": []
    },
    {
      "cell_type": "code",
      "source": [
        "import pandas as pd\n",
        "import torch\n",
        "from torch_geometric.nn import SAGEConv\n",
        "from torch_geometric.nn import GCNConv\n",
        "from torch_geometric.nn import GATConv\n",
        "from torch_geometric.utils import negative_sampling\n",
        "from sklearn.metrics import roc_auc_score, accuracy_score\n",
        "import torch.nn.functional as F\n",
        "import torch.nn as nn\n",
        "from google.colab import files\n",
        "import matplotlib.pyplot as plt\n",
        "from sklearn.metrics import accuracy_score, precision_score, recall_score, f1_score, roc_auc_score, roc_curve, auc, roc_auc_score\n",
        "from sklearn.ensemble import RandomForestClassifier\n",
        "from sklearn.svm import SVC\n",
        "from sklearn.metrics import confusion_matrix"
      ],
      "metadata": {
        "id": "jCCUThfZb0hC"
      },
      "execution_count": 3,
      "outputs": []
    },
    {
      "cell_type": "code",
      "source": [
        "columns = ['Algorithm', 'AUROC', 'Accuracy', 'Precision', 'Recall', 'F1']\n",
        "results = pd.DataFrame(columns=columns)\n",
        "\n",
        "def sampling(arr, size):\n",
        "  perm = torch.randperm(arr.size(1))\n",
        "  arr = arr[:, perm]\n",
        "  perm = torch.randperm(arr.size(1))\n",
        "  selected_indices = perm[:size]\n",
        "  not_selected_indices = perm[size:]\n",
        "  return arr[:, selected_indices], arr[:, not_selected_indices]\n",
        "\n",
        "\n",
        "def compute_accuracy(y_true, y_pred):\n",
        "    return accuracy_score(y_true, y_pred)\n",
        "\n",
        "def compute_precision(y_true, y_pred):\n",
        "    return precision_score(y_true, y_pred)\n",
        "\n",
        "def compute_f1(y_true, y_pred):\n",
        "    return f1_score(y_true, y_pred)\n",
        "\n",
        "def compute_auc_roc(y_true, y_score):\n",
        "    return roc_auc_score(y_true, y_score)\n",
        "\n",
        "\n",
        "def performace(df, algorithm):\n",
        "  accuracy = accuracy_score(df.true, df.predicted)\n",
        "  print(f\"Accuracy: {accuracy:.4f}\")\n",
        "\n",
        "  # Precision\n",
        "  precision = precision_score(df.true, df.predicted)\n",
        "  print(f\"Precision: {precision:.4f}\")\n",
        "\n",
        "  # Recall\n",
        "  recall = recall_score(df.true, df.predicted)\n",
        "  print(f\"Recall: {recall:.4f}\")\n",
        "\n",
        "  # F1 Score\n",
        "  f1 = f1_score(df.true, df.predicted)\n",
        "  print(f\"F1 Score: {f1:.4f}\")\n",
        "\n",
        "  # AUROC (Area Under the ROC Curve)\n",
        "  roc_auc = roc_auc_score(df.true, df.sigmoid)\n",
        "  print(f\"AUROC: {roc_auc:.4f}\")\n",
        "\n",
        "  results.loc[len(results)] = [algorithm, roc_auc, accuracy, precision, recall, f1]\n",
        "\n",
        "def plot_roc_curves(df1, df2, df3):\n",
        "    \"\"\"\n",
        "    Plots ROC curves for three models and their combined ROC curves.\n",
        "\n",
        "    Args:\n",
        "        df1: DataFrame containing 'sigmoid' (predicted probabilities) and 'true' (actual labels) for GraphSAGE.\n",
        "        df2: DataFrame containing 'sigmoid' (predicted probabilities) and 'true' (actual labels) for Random Forest.\n",
        "        df3: DataFrame containing 'sigmoid' (predicted probabilities) and 'true' (actual labels) for Integrated Model.\n",
        "    \"\"\"\n",
        "\n",
        "    # Define model labels\n",
        "    models = {\n",
        "        \"GraphSAGE\": df1,\n",
        "        \"Random Forest\": df2,\n",
        "        \"Integrated Model\": df3\n",
        "    }\n",
        "\n",
        "    plt.figure(figsize=(10, 7))\n",
        "\n",
        "    # Plot ROC curve for each model separately\n",
        "    for label, df in models.items():\n",
        "        fpr, tpr, _ = roc_curve(df['true'], df['sigmoid'])\n",
        "        roc_auc = auc(fpr, tpr)\n",
        "        plt.plot(fpr, tpr, label=f\"{label} (AUC = {roc_auc:.3f})\")\n",
        "\n",
        "    # Add diagonal line (random classifier)\n",
        "    plt.plot([0, 1], [0, 1], 'k--', lw=2)\n",
        "\n",
        "    # Formatting the plot\n",
        "    plt.xlabel('False Positive Rate')\n",
        "    plt.ylabel('True Positive Rate')\n",
        "    plt.title('ROC Curve Comparison')\n",
        "    plt.legend(loc=\"lower right\")\n",
        "    plt.grid()\n",
        "\n",
        "    # Show combined ROC curve\n",
        "    plt.show()\n",
        "\n",
        "    # Draw individual ROC curves\n",
        "    for label, df in models.items():\n",
        "        plt.figure(figsize=(6, 5))\n",
        "        fpr, tpr, _ = roc_curve(df['true'], df['sigmoid'])\n",
        "        roc_auc = auc(fpr, tpr)\n",
        "        plt.plot(fpr, tpr, label=f\"{label} (AUC = {roc_auc:.3f})\", color='blue')\n",
        "        plt.plot([0, 1], [0, 1], 'k--', lw=2)\n",
        "\n",
        "        # Formatting the plot\n",
        "        plt.xlabel('False Positive Rate')\n",
        "        plt.ylabel('True Positive Rate')\n",
        "        plt.title(f'ROC Curve for {label}')\n",
        "        plt.legend(loc=\"lower right\")\n",
        "        plt.grid()\n",
        "\n",
        "        # Show individual ROC curve\n",
        "        plt.show()\n",
        "\n",
        "\n",
        "\n",
        "\n",
        "def build_confusion_matrix(df1, df2, df3):\n",
        "    # Function to calculate TP, FP, FN, TN\n",
        "    def get_conf_matrix(df):\n",
        "        tn, fp, fn, tp = confusion_matrix(df['true'], df['predicted']).ravel()\n",
        "        return tn, fp, fn, tp\n",
        "\n",
        "    # Compute confusion matrices\n",
        "    tn1, fp1, fn1, tp1 = get_conf_matrix(df1)\n",
        "    tn2, fp2, fn2, tp2 = get_conf_matrix(df2)\n",
        "    tn3, fp3, fn3, tp3 = get_conf_matrix(df3)\n",
        "\n",
        "    # Create a DataFrame\n",
        "    conf_matrix_df = pd.DataFrame({\n",
        "        'Algorithm': ['GraphSAGE', 'Random Forest', 'Integrated Model'],\n",
        "        'True Negative': [tn1, tn2, tn3],\n",
        "        'False Positive': [fp1, fp2, fp3],\n",
        "        'False Negative': [fn1, fn2, fn3],\n",
        "        'True Positive': [tp1, tp2, tp3]\n",
        "    })\n",
        "\n",
        "    return conf_matrix_df"
      ],
      "metadata": {
        "id": "lumARqWsb4b3"
      },
      "execution_count": 4,
      "outputs": []
    },
    {
      "cell_type": "code",
      "source": [
        "from google.colab import drive\n",
        "drive.mount('/content/drive')"
      ],
      "metadata": {
        "colab": {
          "base_uri": "https://localhost:8080/"
        },
        "id": "7EX-KKmTcGlV",
        "outputId": "64bca3b5-9831-4e48-e224-9f11613ec63c"
      },
      "execution_count": 5,
      "outputs": [
        {
          "output_type": "stream",
          "name": "stdout",
          "text": [
            "Mounted at /content/drive\n"
          ]
        }
      ]
    },
    {
      "cell_type": "code",
      "source": [
        "subfolder = ''\n",
        "#subfolder = 'test/'\n",
        "file_path = '/content/drive/MyDrive/MSc/Thesis/Colab/Dataset/' + subfolder\n",
        "\n",
        "drug_protein_df = pd.read_csv(file_path + 'drugProteinInteraction.csv', index_col = 0)\n",
        "disease_protein_df = pd.read_csv(file_path + 'diseaseProteinInteraction.csv', index_col = 0)\n",
        "drug_disease_df = pd.read_csv(file_path + 'drugDiseaseInteraction.csv', index_col = 0)\n",
        "ppi_df = pd.read_csv(file_path + 'proteinSimilarity.csv', index_col = 0)\n",
        "\n",
        "drug_protein_matrix = torch.tensor(drug_protein_df.values, dtype=torch.float)\n",
        "disease_protein_matrix = torch.tensor(disease_protein_df.values, dtype=torch.float)\n",
        "drug_disease_matrix = torch.tensor(drug_disease_df.values, dtype=torch.float)\n",
        "ppi_matrix = torch.tensor(ppi_df.values, dtype=torch.float)\n",
        "\n",
        "x_drugs = drug_protein_matrix\n",
        "x_diseases = disease_protein_matrix\n",
        "x = torch.cat([x_drugs, x_diseases], dim=0)\n",
        "\n",
        "num_of_drugs = drug_protein_df.shape[0]\n",
        "num_of_diseases = disease_protein_df.shape[0]\n",
        "num_of_proteins = drug_protein_df.shape[1]\n",
        "n = num_of_drugs + num_of_diseases\n",
        "\n",
        "positive_edges = drug_disease_matrix.nonzero(as_tuple=False).t().contiguous()\n",
        "positive_edges[1] += num_of_drugs\n",
        "\n",
        "negative_edges = torch.eq(drug_disease_matrix, 0).nonzero(as_tuple=False).t().contiguous()\n",
        "negative_edges[1] += num_of_drugs\n",
        "\n",
        "num_positive_edges = positive_edges.size(1)\n",
        "num_negative_edges = negative_edges.size(1)\n",
        "\n",
        "print(f\"Number of positive edges: {num_positive_edges}\")\n",
        "print(f\"Number of negative edges: {num_negative_edges}\")\n",
        "\n",
        "pos_train_size = int(train_ratio * num_positive_edges)\n",
        "neg_train_size = int(train_ratio * negative_edge_ratio * num_positive_edges)\n",
        "\n",
        "negative_edges = sampling(negative_edges, negative_edge_ratio * num_positive_edges)[0]\n",
        "train_positive_edges, test_positive_edges = sampling(positive_edges, pos_train_size)\n",
        "train_negative_edges, test_negative_edges = sampling(negative_edges, neg_train_size)\n",
        "\n",
        "test_edge_index = torch.cat([test_positive_edges, test_negative_edges], dim=-1)\n",
        "pos_y = torch.ones(test_positive_edges.size(1))\n",
        "neg_y = torch.zeros(test_negative_edges.size(1))\n",
        "test_edge_labels = torch.cat([pos_y, neg_y])\n",
        "\n",
        "\n",
        "train_edges = torch.cat((train_positive_edges, test_positive_edges), dim=1)\n",
        "swapped_edges = train_edges[[1, 0], :]\n",
        "train_edges = torch.cat([train_edges, swapped_edges], dim=1)\n",
        "#self_loops = torch.tensor([list(range(n)), list(range(n))])\n",
        "#train_edges = torch.cat((train_edges, self_loops), dim=1)\n",
        "\n",
        "print(f\"Number of training positive edges: {train_positive_edges.size(1)}\")\n",
        "print(f\"Number of training negative edges: {train_negative_edges.size(1)}\")\n",
        "print(f\"Number of test positive edges: {test_positive_edges.size(1)}\")\n",
        "print(f\"Number of test negative edges: {test_negative_edges.size(1)}\")\n"
      ],
      "metadata": {
        "colab": {
          "base_uri": "https://localhost:8080/"
        },
        "id": "oq_veS3EcKCC",
        "outputId": "3528e3e4-e3df-4111-d38b-de5c2c89cd0d"
      },
      "execution_count": 6,
      "outputs": [
        {
          "output_type": "stream",
          "name": "stdout",
          "text": [
            "Number of positive edges: 1827\n",
            "Number of negative edges: 530687\n",
            "Number of training positive edges: 1644\n",
            "Number of training negative edges: 1644\n",
            "Number of test positive edges: 183\n",
            "Number of test negative edges: 183\n"
          ]
        }
      ]
    },
    {
      "cell_type": "code",
      "source": [
        "train_edges.shape"
      ],
      "metadata": {
        "colab": {
          "base_uri": "https://localhost:8080/"
        },
        "id": "n3Rzo_uRjAj-",
        "outputId": "6a8e61bd-74bf-43a5-8ead-b5fc79eca48e"
      },
      "execution_count": 7,
      "outputs": [
        {
          "output_type": "execute_result",
          "data": {
            "text/plain": [
              "torch.Size([2, 3654])"
            ]
          },
          "metadata": {},
          "execution_count": 7
        }
      ]
    },
    {
      "cell_type": "code",
      "source": [
        "features_pos_a = x[train_positive_edges[0]]\n",
        "features_pos_b = x[train_positive_edges[1]]\n",
        "summed_features_pos = features_pos_a + features_pos_b\n",
        "features_neg_a = x[train_negative_edges[0]]\n",
        "features_neg_b = x[train_negative_edges[1]]\n",
        "summed_features_neg = features_neg_a + features_neg_b\n",
        "X_train = torch.cat((summed_features_pos, summed_features_neg), dim=0)\n",
        "y_train = torch.cat((torch.ones(train_positive_edges.size(1)), torch.zeros(train_negative_edges.size(1))))\n",
        "shuffle_indices = torch.randperm(X_train.shape[0])\n",
        "X_train = X_train[shuffle_indices]\n",
        "y_train = y_train[shuffle_indices]\n",
        "X_train_np = X_train.numpy()\n",
        "y_train_np = y_train.numpy()\n",
        "\n",
        "\n",
        "\n",
        "\n",
        "features_pos_a = x[test_positive_edges[0]]\n",
        "features_pos_b = x[test_positive_edges[1]]\n",
        "summed_features_pos = features_pos_a + features_pos_b\n",
        "features_neg_a = x[test_negative_edges[0]]\n",
        "features_neg_b = x[test_negative_edges[1]]\n",
        "summed_features_neg = features_neg_a + features_neg_b\n",
        "X_test = torch.cat((summed_features_pos, summed_features_neg), dim=0)\n",
        "y_test = torch.cat((torch.ones(test_positive_edges.size(1)), torch.zeros(test_negative_edges.size(1))))\n",
        "X_test_np = X_test.numpy()\n",
        "y_test_np = y_test.numpy()\n",
        "\n",
        "X_test_np"
      ],
      "metadata": {
        "colab": {
          "base_uri": "https://localhost:8080/"
        },
        "id": "iM8haKE7fMxr",
        "outputId": "9a35c8b4-ebb2-4833-db44-79989b5cb35c"
      },
      "execution_count": 8,
      "outputs": [
        {
          "output_type": "execute_result",
          "data": {
            "text/plain": [
              "array([[0., 0., 0., ..., 0., 0., 0.],\n",
              "       [0., 0., 0., ..., 0., 0., 0.],\n",
              "       [0., 0., 0., ..., 0., 0., 0.],\n",
              "       ...,\n",
              "       [0., 0., 0., ..., 0., 0., 0.],\n",
              "       [0., 0., 0., ..., 0., 0., 0.],\n",
              "       [0., 0., 0., ..., 0., 0., 0.]], dtype=float32)"
            ]
          },
          "metadata": {},
          "execution_count": 8
        }
      ]
    },
    {
      "cell_type": "code",
      "source": [
        "#train_positive_edges.shape\n",
        "#train_positive_edges = torch.cat((train_positive_edges, test_positive_edges), dim=1)\n",
        "#train_positive_edges.shape\n",
        "#swapped_edges = train_positive_edges[[1, 0], :]\n",
        "#train_positive_edges = torch.cat((train_positive_edges, swapped_edges), dim=1)\n",
        "#train_positive_edges.shape"
      ],
      "metadata": {
        "id": "YMYhjeWlJtW_"
      },
      "execution_count": 9,
      "outputs": []
    },
    {
      "cell_type": "code",
      "source": [
        "class GraphSAGE(torch.nn.Module):\n",
        "    def __init__(self, in_channels, hidden_channels, out_channels):\n",
        "        super(GraphSAGE, self).__init__()\n",
        "        self.conv1 = SAGEConv(in_channels, hidden_channels)\n",
        "        self.dropout = nn.Dropout(p=0.5)\n",
        "        self.conv2 = SAGEConv(hidden_channels, out_channels)\n",
        "\n",
        "    def encode(self, x, edge_index):\n",
        "        x = self.conv1(x, edge_index)\n",
        "        x = F.relu(x)\n",
        "        #x = self.dropout(x)\n",
        "        x = self.conv2(x, edge_index)\n",
        "        return F.relu(x)\n",
        "\n",
        "    def decode(self, z, pos_edge_index, neg_edge_index):\n",
        "        edge_index = torch.cat([pos_edge_index, neg_edge_index], dim=-1)\n",
        "        return (z[edge_index[0]] * z[edge_index[1]]).sum(dim=-1)\n",
        "\n",
        "    def decode_all(self, z):\n",
        "        prob_adj = z @ z.t()\n",
        "        return (prob_adj > 0).nonzero(as_tuple=False).t()"
      ],
      "metadata": {
        "id": "0__GDL2bdjk9"
      },
      "execution_count": 10,
      "outputs": []
    },
    {
      "cell_type": "code",
      "source": [
        "def train(model, optimizer, criterion):\n",
        "    model.train()\n",
        "    optimizer.zero_grad()\n",
        "\n",
        "    z = model.encode(x, train_edges)\n",
        "    out = model.decode(z, train_positive_edges, train_negative_edges)\n",
        "\n",
        "    pos_y = torch.ones(train_positive_edges.size(1))\n",
        "    neg_y = torch.zeros(train_negative_edges.size(1))\n",
        "    y_true = torch.cat([pos_y, neg_y])\n",
        "\n",
        "    loss = criterion(out, y_true)\n",
        "    loss.backward()\n",
        "    optimizer.step()\n",
        "\n",
        "    y_score = torch.sigmoid(out).detach().cpu().numpy()\n",
        "    y_pred = (y_score > threshold).astype(int)\n",
        "\n",
        "    acc = compute_accuracy(y_true, y_pred)\n",
        "    precision = compute_precision(y_true, y_pred)\n",
        "    f1 = compute_f1(y_true, y_pred)\n",
        "    auc = compute_auc_roc(y_true, y_score)\n",
        "\n",
        "    return model, z, loss.item(), acc, precision\n",
        "\n",
        "def evaluate(model, z, test_pos, test_neg):\n",
        "    pos_y = torch.ones(test_pos.size(1))\n",
        "    neg_y = torch.zeros(test_neg.size(1))\n",
        "    edge_label = torch.cat([pos_y, neg_y])\n",
        "\n",
        "    model.eval()\n",
        "    with torch.no_grad():\n",
        "      #z = model.encode(x, test_pos)\n",
        "      out = model.decode(z, test_pos, test_neg)\n",
        "\n",
        "    y_score = out.sigmoid().numpy()\n",
        "    y_pred = (y_score > threshold).astype(int)\n",
        "\n",
        "    df = pd.DataFrame({\n",
        "      'sigmoid': y_score,\n",
        "      'predicted': y_pred,\n",
        "      'true': edge_label\n",
        "    })\n",
        "\n",
        "    acc = compute_accuracy(edge_label, y_pred)\n",
        "    precision = compute_precision(edge_label, y_pred)\n",
        "    f1 = compute_f1(edge_label, y_pred)\n",
        "    auc = compute_auc_roc(edge_label, y_score)\n",
        "\n",
        "    return acc, precision, df\n",
        "\n",
        "def roc(df):\n",
        "  y_true = df['true']  # True labels\n",
        "  y_scores = df['sigmoid']  # Predicted probabilities\n",
        "\n",
        "  # Compute ROC curve\n",
        "  fpr, tpr, threshold = roc_curve(y_true, y_scores)\n",
        "\n",
        "  # Compute AUROC score\n",
        "  auc_score = roc_auc_score(y_true, y_scores)\n",
        "\n",
        "  # Plot ROC Curve\n",
        "  plt.figure(figsize=(8, 6))\n",
        "  plt.plot(fpr, tpr, color='blue', label=f'AUC = {auc_score:.3f}')\n",
        "  plt.plot([0, 1], [0, 1], linestyle='--', color='gray')  # Random classifier\n",
        "  plt.xlabel('False Positive Rate (FPR)')\n",
        "  plt.ylabel('True Positive Rate (TPR)')\n",
        "  plt.title('ROC Curve')\n",
        "  plt.legend(loc='lower right')\n",
        "  plt.grid()\n",
        "  plt.show()"
      ],
      "metadata": {
        "id": "yi1YTC3_dxpv"
      },
      "execution_count": 11,
      "outputs": []
    },
    {
      "cell_type": "code",
      "source": [
        "modelSAGE = GraphSAGE(in_channels=num_of_proteins, hidden_channels=hidden_channels, out_channels=output_channels)\n",
        "optimizerSAGE = torch.optim.Adam(params=modelSAGE.parameters(), lr=learning_rate)\n",
        "criterionSAGE = torch.nn.BCEWithLogitsLoss()\n",
        "zSAGE = []\n",
        "\n",
        "for epoch in range(1, epochs + 1):\n",
        "    modelSAGE, zSAGE, lossSAGE, accuracySAGE, precisionSAGE = train(modelSAGE, optimizerSAGE, criterionSAGE)\n",
        "    print(f\"Epoch {epoch:03d} | Loss: {lossSAGE:.4f} | Accuracy: {accuracySAGE:.4f} | Precision: {precisionSAGE:.4f}\")\n",
        "\n",
        "accSAGE, preSAGE, dfSAGE = evaluate(modelSAGE, zSAGE, test_positive_edges, test_negative_edges)\n",
        "print(f\"Test Accuracy: {accSAGE:.4f}  | Test Precision: {preSAGE:.4f}\")\n",
        "roc(dfSAGE)"
      ],
      "metadata": {
        "colab": {
          "base_uri": "https://localhost:8080/",
          "height": 347
        },
        "id": "Tf7bq1WpDHsC",
        "outputId": "6afbd2e5-d1f9-4eb5-f973-b4c504dcec11"
      },
      "execution_count": 12,
      "outputs": [
        {
          "output_type": "error",
          "ename": "NameError",
          "evalue": "name 'compute_accuracy' is not defined",
          "traceback": [
            "\u001b[0;31m---------------------------------------------------------------------------\u001b[0m",
            "\u001b[0;31mNameError\u001b[0m                                 Traceback (most recent call last)",
            "\u001b[0;32m<ipython-input-12-6d30a0c68c14>\u001b[0m in \u001b[0;36m<cell line: 0>\u001b[0;34m()\u001b[0m\n\u001b[1;32m      5\u001b[0m \u001b[0;34m\u001b[0m\u001b[0m\n\u001b[1;32m      6\u001b[0m \u001b[0;32mfor\u001b[0m \u001b[0mepoch\u001b[0m \u001b[0;32min\u001b[0m \u001b[0mrange\u001b[0m\u001b[0;34m(\u001b[0m\u001b[0;36m1\u001b[0m\u001b[0;34m,\u001b[0m \u001b[0mepochs\u001b[0m \u001b[0;34m+\u001b[0m \u001b[0;36m1\u001b[0m\u001b[0;34m)\u001b[0m\u001b[0;34m:\u001b[0m\u001b[0;34m\u001b[0m\u001b[0;34m\u001b[0m\u001b[0m\n\u001b[0;32m----> 7\u001b[0;31m     \u001b[0mmodelSAGE\u001b[0m\u001b[0;34m,\u001b[0m \u001b[0mzSAGE\u001b[0m\u001b[0;34m,\u001b[0m \u001b[0mlossSAGE\u001b[0m\u001b[0;34m,\u001b[0m \u001b[0maccuracySAGE\u001b[0m\u001b[0;34m,\u001b[0m \u001b[0mprecisionSAGE\u001b[0m \u001b[0;34m=\u001b[0m \u001b[0mtrain\u001b[0m\u001b[0;34m(\u001b[0m\u001b[0mmodelSAGE\u001b[0m\u001b[0;34m,\u001b[0m \u001b[0moptimizerSAGE\u001b[0m\u001b[0;34m,\u001b[0m \u001b[0mcriterionSAGE\u001b[0m\u001b[0;34m)\u001b[0m\u001b[0;34m\u001b[0m\u001b[0;34m\u001b[0m\u001b[0m\n\u001b[0m\u001b[1;32m      8\u001b[0m     \u001b[0mprint\u001b[0m\u001b[0;34m(\u001b[0m\u001b[0;34mf\"Epoch {epoch:03d} | Loss: {lossSAGE:.4f} | Accuracy: {accuracySAGE:.4f} | Precision: {precisionSAGE:.4f}\"\u001b[0m\u001b[0;34m)\u001b[0m\u001b[0;34m\u001b[0m\u001b[0;34m\u001b[0m\u001b[0m\n\u001b[1;32m      9\u001b[0m \u001b[0;34m\u001b[0m\u001b[0m\n",
            "\u001b[0;32m<ipython-input-11-02d6c54ba782>\u001b[0m in \u001b[0;36mtrain\u001b[0;34m(model, optimizer, criterion)\u001b[0m\n\u001b[1;32m     17\u001b[0m     \u001b[0my_pred\u001b[0m \u001b[0;34m=\u001b[0m \u001b[0;34m(\u001b[0m\u001b[0my_score\u001b[0m \u001b[0;34m>\u001b[0m \u001b[0mthreshold\u001b[0m\u001b[0;34m)\u001b[0m\u001b[0;34m.\u001b[0m\u001b[0mastype\u001b[0m\u001b[0;34m(\u001b[0m\u001b[0mint\u001b[0m\u001b[0;34m)\u001b[0m\u001b[0;34m\u001b[0m\u001b[0;34m\u001b[0m\u001b[0m\n\u001b[1;32m     18\u001b[0m \u001b[0;34m\u001b[0m\u001b[0m\n\u001b[0;32m---> 19\u001b[0;31m     \u001b[0macc\u001b[0m \u001b[0;34m=\u001b[0m \u001b[0mcompute_accuracy\u001b[0m\u001b[0;34m(\u001b[0m\u001b[0my_true\u001b[0m\u001b[0;34m,\u001b[0m \u001b[0my_pred\u001b[0m\u001b[0;34m)\u001b[0m\u001b[0;34m\u001b[0m\u001b[0;34m\u001b[0m\u001b[0m\n\u001b[0m\u001b[1;32m     20\u001b[0m     \u001b[0mprecision\u001b[0m \u001b[0;34m=\u001b[0m \u001b[0mcompute_precision\u001b[0m\u001b[0;34m(\u001b[0m\u001b[0my_true\u001b[0m\u001b[0;34m,\u001b[0m \u001b[0my_pred\u001b[0m\u001b[0;34m)\u001b[0m\u001b[0;34m\u001b[0m\u001b[0;34m\u001b[0m\u001b[0m\n\u001b[1;32m     21\u001b[0m     \u001b[0mf1\u001b[0m \u001b[0;34m=\u001b[0m \u001b[0mcompute_f1\u001b[0m\u001b[0;34m(\u001b[0m\u001b[0my_true\u001b[0m\u001b[0;34m,\u001b[0m \u001b[0my_pred\u001b[0m\u001b[0;34m)\u001b[0m\u001b[0;34m\u001b[0m\u001b[0;34m\u001b[0m\u001b[0m\n",
            "\u001b[0;31mNameError\u001b[0m: name 'compute_accuracy' is not defined"
          ]
        }
      ]
    },
    {
      "cell_type": "code",
      "source": [
        "rf_model = RandomForestClassifier(n_estimators=100, random_state=42)\n",
        "rf_model.fit(X_train, y_train)\n",
        "y_prob = rf_model.predict_proba(X_test)[:, 1]\n",
        "y_pred = (y_prob > threshold).astype(int)\n",
        "#y_pred = rf_model.predict(X_test)\n",
        "\n",
        "\n",
        "dfRF = pd.DataFrame({\n",
        "  'sigmoid': y_prob,\n",
        "  'predicted': y_pred,\n",
        "  'true': y_test\n",
        "})\n",
        "\n",
        "\n",
        "dfEN = pd.DataFrame()\n",
        "dfEN['sigmoid'] = (dfSAGE['sigmoid'] + dfRF['sigmoid']) / 2\n",
        "dfEN['predicted'] = (dfSAGE['predicted'] + dfRF['predicted'])\n",
        "dfEN['predicted'] = ((dfEN['predicted'] > 1) & (dfEN['sigmoid'] > threshold)).astype(int)\n",
        "#dfEN['predicted'] = (dfSAGE['predicted'] + dfRF['predicted'])\n",
        "#dfEN['predicted'] = (dfEN['sigmoid'] > threshold).astype(int)\n",
        "dfEN['true'] = dfSAGE['true']\n",
        "\n",
        "performace(dfSAGE, 'Graph SAGE')\n",
        "performace(dfRF, 'Random Forest')\n",
        "performace(dfEN, 'Ensembled')\n",
        "results\n",
        "\n",
        "\n",
        "plot_roc_curves(dfSAGE, dfRF, dfEN)"
      ],
      "metadata": {
        "id": "wNW-viP-nDO5"
      },
      "execution_count": null,
      "outputs": []
    },
    {
      "cell_type": "code",
      "source": [
        "results\n",
        "#results.to_csv('results.csv', index=False)\n",
        "#files.download('results.csv')\n"
      ],
      "metadata": {
        "id": "NSSztfOmyhyR"
      },
      "execution_count": null,
      "outputs": []
    },
    {
      "cell_type": "code",
      "source": [
        "confusion = build_confusion_matrix(dfSAGE, dfRF, dfEN)\n",
        "confusion"
      ],
      "metadata": {
        "id": "OXykAfMS4pE4"
      },
      "execution_count": null,
      "outputs": []
    },
    {
      "cell_type": "code",
      "source": [
        "import matplotlib.pyplot as plt\n",
        "\n",
        "# Threshold values\n",
        "thresholds = [0.1, 0.2, 0.3, 0.4, 0.5, 0.6, 0.7, 0.8, 0.9]\n",
        "\n",
        "# Values for accuracy, precision, recall, and F1 score\n",
        "accuracy = [66.94, 75.96, 79.23, 81.42, 89.89, 90.20, 84.42, 79.24, 69.95]\n",
        "precision = [60.76, 68.77, 73.91, 77.51, 95.06, 95.92, 98.46, 99.08, 100]\n",
        "recall = [95.63, 95.08, 90.16, 88.52, 84.15, 94.61, 69.95, 59.02, 39.89]\n",
        "f1 = [74.31, 79.82, 81.28, 82.65, 89.28, 95.26, 81.79, 73.97, 57.03]\n",
        "\n",
        "# Plotting the values\n",
        "plt.figure(figsize=(10, 6))\n",
        "\n",
        "# Plot each metric\n",
        "plt.plot(thresholds, accuracy, label='Accuracy', marker='o', linestyle='-', color='blue')\n",
        "plt.plot(thresholds, precision, label='Precision', marker='s', linestyle='-', color='green')\n",
        "plt.plot(thresholds, recall, label='Recall', marker='^', linestyle='-', color='red')\n",
        "plt.plot(thresholds, f1, label='F1 Score', marker='D', linestyle='-', color='purple')\n",
        "\n",
        "# Adding labels and title\n",
        "plt.xlabel('Threshold (T)')\n",
        "plt.ylabel('Percentage (%)')\n",
        "plt.title('Performance Metrics vs Threshold')\n",
        "\n",
        "# Adding a legend\n",
        "plt.legend()\n",
        "\n",
        "# Displaying the plot\n",
        "plt.grid(True)\n",
        "plt.tight_layout()\n",
        "plt.show()\n"
      ],
      "metadata": {
        "id": "GUVMP8uPdCe6"
      },
      "execution_count": null,
      "outputs": []
    }
  ]
}